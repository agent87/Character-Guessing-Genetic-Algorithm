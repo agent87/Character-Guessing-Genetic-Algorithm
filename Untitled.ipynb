{
 "cells": [
  {
   "cell_type": "code",
   "execution_count": 1,
   "metadata": {
    "collapsed": true
   },
   "outputs": [],
   "source": [
    "#This is genetic algorithm that guesses a word or text.\n",
    "#its evolution is based on being given number of corresponding letters\n",
    "\n",
    "from random import randrange\n",
    "from math import floor\n",
    "from time import time\n",
    "\n",
    "#Possible genes for combination\n",
    "geneset = \" abcdefghijklmnopqrstuvwxyzABCDEFGHIJKLMNOPQRSTUVWXYZ!.@1234567890\"\n",
    "cross_ratio_activation = False"
   ]
  },
  {
   "cell_type": "code",
   "execution_count": 2,
   "metadata": {
    "collapsed": true
   },
   "outputs": [],
   "source": [
    "#From Here We shall defining function comprising the algorithm\n",
    "#generation of the initial population given a population size(p)\n",
    "#output format:[[i1],[i2],.....,[ip]]\n",
    "#i is individual\n",
    "\n",
    "def generate_population(pop_size):\n",
    "\tgenerated_population = [] \n",
    "\tfor n in range(pop_size):\n",
    "\t\ttemp_var = []\n",
    "\t\tfor l in range(len(target)):\n",
    "\t\t\ttemp_var.append(geneset[randrange(len(geneset))])\n",
    "\t\tgenerated_population.append(''.join(temp_var))\n",
    "\treturn generated_population\n"
   ]
  },
  {
   "cell_type": "code",
   "execution_count": 3,
   "metadata": {
    "collapsed": true
   },
   "outputs": [],
   "source": [
    "#Here we shall acert each individual with a correspdnding fitnness points\n",
    "#Data_structure: ['Individual']\n",
    "#This function shall compare each individual character with the corresponding targets character and addup every match\n",
    "#Output format:[fitness_score, 'individual']\n",
    "\n",
    "def get_fitness_pop(population): \n",
    "\tfitness_pop = []\n",
    "\tfor n in range(len(population)):\n",
    "\t\tindividual = population[n]; indiv_fit_score = 0\n",
    "\t\tfor l in range(len(individual)):\n",
    "\t\t\tif individual[l] == target[l]:\n",
    "\t\t\t\tindiv_fit_score += 1 \n",
    "\t\t\t\t#print('Found Match For {0} and {1} on {2}'.format(individual[l], target[l], individual))\n",
    "\t\tascert_data = [indiv_fit_score, individual]\n",
    "\t\tfitness_pop.append(ascert_data)\n",
    "\treturn sorted(fitness_pop, reverse=True)\n"
   ]
  },
  {
   "cell_type": "code",
   "execution_count": 4,
   "metadata": {
    "collapsed": true
   },
   "outputs": [],
   "source": [
    "#This sums the fitness_score of a given population\n",
    "#input format:[[fitness_score, 'individual'],[fitness_score, 'individual'],......,[fitness_score, 'individual']]\n",
    "def fitness_sum(population):\n",
    "\tfitness_sum = 0\n",
    "\tfor l in range(len(population)):\n",
    "\t\tfitness_sum += population[l][0]\n",
    "\treturn fitness_sum"
   ]
  },
  {
   "cell_type": "code",
   "execution_count": 5,
   "metadata": {
    "collapsed": true
   },
   "outputs": [],
   "source": [
    "#Here there shall occur what is know as selection\n",
    "#The given population array is sorted according to their respective fitness scores\n",
    "#From The 1st cell you can formulate your selection size\n",
    "#selection size are the fraction of the population that will be selected \n",
    "#The output shall be [i[1],...,i[population size*selection size]]\n",
    "\n",
    "def selection(population):\n",
    "\tpopulation = sorted(population, reverse=True)\n",
    "\tselected_pop = population[0:int(pop_size * selection_size)]\n",
    "\treturn selected_pop"
   ]
  },
  {
   "cell_type": "code",
   "execution_count": 6,
   "metadata": {
    "collapsed": true
   },
   "outputs": [],
   "source": [
    "#Search for a mate \n",
    "#this is usually not included in classic algorithm but i got the intuition of adding one\n",
    "#it was inspired by human culture\n",
    "#mate_list is the population\n",
    "#number is the mate_1 number so that it can be removed from the drawing list\n",
    "\n",
    "def search_mate(mate_list, number):\n",
    "\text_list = []\n",
    "\text_list = mate_list\n",
    "\t#print(len(ext_list))\n",
    "\text_list.remove(ext_list[number])\n",
    "\t#print(len(ext_list))\n",
    "\treturn ext_list[randrange(len(ext_list))]"
   ]
  },
  {
   "cell_type": "code",
   "execution_count": 7,
   "metadata": {
    "collapsed": true
   },
   "outputs": [],
   "source": [
    "#crossing can be done in many different method\n",
    "#My chosen method was recombination \n",
    "#offspring is the product of the mates a.k.a child, baby\n",
    "#for every offspring gene there is a pool of 2 genes from mate 1 and mate_2 \n",
    "#to recombine the gene a random number between 1 and 2 is initiated\n",
    "#if its 1 then the gene of mate_1 is chosen and if its 2 gene of mate_1 is chosen\n",
    "#cross ration activation is when fitness score is your ratio chances for a mates genes to be chosen\n",
    "\n",
    "def crossover(mate_1, mate_2):\n",
    "\tif len(mate_1[1]) == len(mate_2[1]):\n",
    "\t\tif cross_ratio_activation == True:\n",
    "\t\t\tchild = ''\n",
    "\t\t\tratio = [round((int(mate_1[0])/(int(mate_1[0]) + int(mate_2[0])))*100), round((int(mate_2[0])/(int(mate_1[0]) + int(mate_2[0])))*100)]\n",
    "\t\t\tfor i in range(len(mate_1[1])):\n",
    "\t\t\t\tchoose = []\n",
    "\t\t\t\tchoose.extend((mate_1[1][i]*ratio[0])) \n",
    "\t\t\t\tchoose.extend((mate_2[1][i]*ratio[1]))\n",
    "\t\t\t\tchild += choose[randrange(sum(ratio))]\n",
    "\t\t\treturn child\n",
    "\t\telif cross_ratio_activation == False:\n",
    "\t\t\tchild = ''\n",
    "\t\t\tratio = [50,50]\n",
    "\t\t\tfor i in range(len(mate_1[1])):\n",
    "\t\t\t\tchoose = []\n",
    "\t\t\t\tchoose.extend((mate_1[1][i]*ratio[0])); choose.extend((mate_2[1][i]*ratio[1]))\n",
    "\t\t\t\tchild += choose[randrange(sum(ratio))]\n",
    "\t\t\treturn child\n",
    "\telse:\n",
    "\t\tprint('Error: One Parent was larger in the individual crossover')"
   ]
  },
  {
   "cell_type": "code",
   "execution_count": 8,
   "metadata": {
    "collapsed": true
   },
   "outputs": [],
   "source": [
    "#this is is the automation of crossover for the entire population\n",
    "def mass_crossover(get_fitness_population):\n",
    "\tcross_population = []\n",
    "\ttotal_fitness = fitness_sum(selection(get_fitness_population))\n",
    "\t#print(total_fitness)\n",
    "\tpopulation = sorted(selection(get_fitness_population), reverse=True)\n",
    "\tratio_capacity = (1/total_fitness)*pop_size\n",
    "\tcross_count = 0\n",
    "\tfor d in range(len(population)):\n",
    "\t\tif int(population[d][0]) > 0:\n",
    "\t\t\tfor x in range(round(population[d][0]*ratio_capacity)):\n",
    "\t\t\t\tmate_list = selection(get_fitness_population)\n",
    "\t\t\t\tcross_population.append(crossover(population[d], search_mate(mate_list, d)))\n",
    "\t\t\t\t#print(len(mate_list))\n",
    "\t\t\t\t#print('---')\n",
    "\treturn cross_population"
   ]
  },
  {
   "cell_type": "code",
   "execution_count": 10,
   "metadata": {
    "collapsed": true
   },
   "outputs": [],
   "source": [
    "#settings or variables\n",
    "#The target or answer\n",
    "target = 'its evolution is based on being given number of corresponding letters'\n",
    "\n",
    "#Initialize the initial population size variable\n",
    "pop_size = 10000\n",
    "selection_size = 0.1\n",
    "\n",
    "new_pop = generate_population(pop_size)\n",
    "#print(selection(get_fitness_pop(new_pop)))\n"
   ]
  },
  {
   "cell_type": "code",
   "execution_count": 11,
   "metadata": {},
   "outputs": [
    {
     "name": "stdout",
     "output_type": "stream",
     "text": [
      "Generation  0 while the best is \"tqh !0I6.IK5grdu5Rhnh4Koc@xZ5oU59i.7H3 cmbGD.2PWzC4Me!AXn6.h251EqSDn4\" with  7 after a  9.0 seconds\n",
      "Generation  1 while the best is \"RssE6gr.Syih.mAsdTkG2pV!Qjju@uCCeD53p RZpjlW gqqz9PQeVftjdonn tIqibHv\" with  9 after a  9.2 seconds\n",
      "Generation  2 while the best is \"kgOoiX9qJtUpjl4lQ!amvP@OnlbsiYdtXZORqRPz5HuvMKasikOr0dfbnhgngovlttrrp\" with 12 after a  8.8 seconds\n",
      "Generation  3 while the best is \"dQ1HsejY8S0On yi s7!e.!QphbeYnQHszvTkS7BmCs7R.@qior2ySp4SYijgMle2feCc\" with 17 after a  9.2 seconds\n",
      "Generation  4 while the best is \"w!U EGolX.iKnzCgdUbdSd 1PptGvjg0gXv5q nOm!e.qhf 3o4bebbonn9ndSrTEuqgF\" with 21 after a  9.8 seconds\n",
      "Generation  5 while the best is \"vmPZWSob4liPrUiKv0fs0w onjEeInK 3zq!nGnFmberHokucUOphs QndRnB 2etUegX\" with 26 after a  9.5 seconds\n",
      "Generation  6 while the best is \"itsJ!0oSu@iwn iR ba@MrJqnBEehng givenTou4bv3TQX!cifrehgbnwitB qettQrT\" with 34 after a  9.3 seconds\n",
      "Generation  7 while the best is \"its eSTautDonpVsf7aseZ 2n bizdHbgi4!n9nAmbUr QfCcmr3l!p2nwin4olemtn.s\" with 36 after a  9.4 seconds\n",
      "Generation  8 while the best is \"ptx evol7tionpis ba3.d unIteinY5gDveg Zuvrlr oe coSresE4ndinNyJe@ters\" with 44 after a  9.5 seconds\n",
      "Generation  9 while the best is \"its8evZou0Moi.ispDased onNbe9nY given nuober ofucorAempondTGgNlZttvrs\" with 48 after a  9.6 seconds\n",
      "Generation 10 while the best is \"itsXev21uMSon is based on be2ngfjnven nHmb0r of cTrrespSndAng lHtteSs\" with 53 after a  9.5 seconds\n",
      "Generation 11 while the best is \"its e4olutionEis based on beini givep numbpr oOTcorpHspondiGg lettlrs\" with 58 after a  9.5 seconds\n",
      "Generation 12 while the best is \"its evolu9ion isybased on being given nupber of corcSs onding lejters\" with 62 after a  9.5 seconds\n",
      "Generation 13 while the best is \"its evolution is ba6ed onpbeing given number of carrespon6ing letters\" with 65 after a  9.5 seconds\n",
      "Generation 14 while the best is \"jts evolution is based on being given numbGr of corresponding letters\" with 67 after a  9.7 seconds\n",
      "Generation 15 while the best is \"its evolution is based on being given number of corresponding letters\" with 69 after a 1e+01 seconds\n",
      "Found Target after 151.35251712799072 Seconds\n"
     ]
    }
   ],
   "source": [
    "start_time = time()\n",
    "pop = new_pop\n",
    "for f in range(30):\n",
    "    t = time()\n",
    "    variable_1 = get_fitness_pop(pop)\n",
    "    selected_pop = selection(variable_1)\n",
    "    pop = mass_crossover(selected_pop)\n",
    "    print('Generation {0:2} while the best is \"{1}\" with {3:2} after a {2:4.2} seconds'.format(f, variable_1[0][1], (time()-t), variable_1[0][0]))\n",
    "    if variable_1[0][1] == target:\n",
    "        print('Found Target after {} Seconds'.format(float(time()-start_time)))\n",
    "        break\n",
    "\n"
   ]
  }
 ],
 "metadata": {
  "kernelspec": {
   "display_name": "Python 3",
   "language": "python",
   "name": "python3"
  },
  "language_info": {
   "codemirror_mode": {
    "name": "ipython",
    "version": 3
   },
   "file_extension": ".py",
   "mimetype": "text/x-python",
   "name": "python",
   "nbconvert_exporter": "python",
   "pygments_lexer": "ipython3",
   "version": "3.6.1"
  }
 },
 "nbformat": 4,
 "nbformat_minor": 2
}
